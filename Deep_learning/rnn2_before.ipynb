{
 "cells": [
  {
   "cell_type": "code",
   "execution_count": 1,
   "metadata": {},
   "outputs": [],
   "source": [
    "import pandas as pd\n",
    "from sklearn.model_selection import train_test_split\n",
    "from tensorflow.keras.preprocessing.text import Tokenizer\n",
    "from tensorflow.keras.preprocessing.sequence import pad_sequences\n",
    "from tensorflow.keras.models import Sequential\n",
    "from tensorflow.keras.layers import Embedding, LSTM, Dense, Dropout, Bidirectional\n",
    "from tensorflow.keras.callbacks import EarlyStopping\n",
    "import os\n",
    "\n",
    "# Configure TensorFlow to use GPU\n",
    "os.environ['CUDA_VISIBLE_DEVICES'] = '0'\n",
    "\n",
    "df = pd.read_csv(r\"C:\\Users\\abdel\\Downloads\\before.csv\")"
   ]
  },
  {
   "cell_type": "code",
   "execution_count": 2,
   "metadata": {},
   "outputs": [
    {
     "name": "stdout",
     "output_type": "stream",
     "text": [
      "Index(['Sentence', 'Label', 'Unnamed: 2', 'Unnamed: 3'], dtype='object')\n",
      "Sentence          0\n",
      "Label             0\n",
      "Unnamed: 2    30581\n",
      "Unnamed: 3    30874\n",
      "dtype: int64\n",
      "                                            Sentence Label Unnamed: 2  \\\n",
      "0                  \" or pg_sleep  (  __TIME__  )  --     1        NaN   \n",
      "1  create user name identified by pass123 tempora...     1          1   \n",
      "2   AND 1  =  utl_inaddr.get_host_address   (    ...     1        NaN   \n",
      "3   select * from users where id  =  '1' or @ @1 ...     1        NaN   \n",
      "4   select * from users where id  =  1 or 1#\"  ( ...     1        NaN   \n",
      "\n",
      "   Unnamed: 3  \n",
      "0         NaN  \n",
      "1         NaN  \n",
      "2         NaN  \n",
      "3         NaN  \n",
      "4         NaN  \n"
     ]
    }
   ],
   "source": [
    "print(df.columns)\n",
    "for i in range(0, 20921):\n",
    "    if pd.isnull(df.iloc[i, 0]):\n",
    "        df.iloc[i, 0] = df.iloc[i, 1]\n",
    "    elif pd.isnull(df.iloc[i, 1]):\n",
    "        df.iloc[i, 1] = df.iloc[i, 2]\n",
    "print(df.isna().sum())\n",
    "print(df.head())"
   ]
  },
  {
   "cell_type": "code",
   "execution_count": 3,
   "metadata": {},
   "outputs": [
    {
     "name": "stdout",
     "output_type": "stream",
     "text": [
      "Sentence          0\n",
      "Label             0\n",
      "Unnamed: 2    30577\n",
      "Unnamed: 3    30832\n",
      "dtype: int64\n"
     ]
    }
   ],
   "source": [
    "# Convert 'Label' column to string and then check for non-numeric characters\n",
    "df['Label'] = df['Label'].astype(str)\n",
    "df = df[~df['Label'].str.contains('[a-zA-Z]')]\n",
    "# Convert the 'Label' column to integers\n",
    "df['Label'] = pd.to_numeric(df['Label'], errors='coerce', downcast='integer')\n",
    "df['Label'] = df['Label'].astype('float32')\n",
    "# Drop rows with NaN values in 'Sentence' and 'Label' columns\n",
    "df = df.dropna(subset=['Sentence', 'Label'])\n",
    "\n",
    "# Check for NaN values after cleaning\n",
    "print(df.isna().sum())\n",
    "\n",
    "# Split the data into training and testing sets\n",
    "train_data, test_data = train_test_split(df, test_size=0.2, random_state=42)\n",
    "\n",
    "# Tokenization and Padding\n",
    "max_words = 10000\n",
    "max_sequence_length = 100\n",
    "tokenizer = Tokenizer(num_words=max_words, oov_token=\"<OOV>\")\n",
    "tokenizer.fit_on_texts(train_data['Sentence'])\n",
    "train_sequences = tokenizer.texts_to_sequences(train_data['Sentence'])\n",
    "test_sequences = tokenizer.texts_to_sequences(test_data['Sentence'])\n",
    "train_padded = pad_sequences(train_sequences, maxlen=max_sequence_length, padding='post', truncating='post')\n",
    "test_padded = pad_sequences(test_sequences, maxlen=max_sequence_length, padding='post', truncating='post')"
   ]
  },
  {
   "cell_type": "code",
   "execution_count": 4,
   "metadata": {},
   "outputs": [
    {
     "name": "stdout",
     "output_type": "stream",
     "text": [
      "Epoch 1/10\n",
      "771/771 [==============================] - 73s 84ms/step - loss: 0.0775 - accuracy: 0.9773 - val_loss: 0.0316 - val_accuracy: 0.9929\n",
      "Epoch 2/10\n",
      "771/771 [==============================] - 63s 81ms/step - loss: 0.0238 - accuracy: 0.9951 - val_loss: 0.0231 - val_accuracy: 0.9940\n",
      "Epoch 3/10\n",
      "771/771 [==============================] - 61s 79ms/step - loss: 0.0159 - accuracy: 0.9966 - val_loss: 0.0236 - val_accuracy: 0.9911\n",
      "Epoch 4/10\n",
      "771/771 [==============================] - 70s 90ms/step - loss: 0.0122 - accuracy: 0.9975 - val_loss: 0.0245 - val_accuracy: 0.9929\n",
      "Epoch 5/10\n",
      "771/771 [==============================] - 60s 78ms/step - loss: 0.0090 - accuracy: 0.9983 - val_loss: 0.0196 - val_accuracy: 0.9938\n",
      "Epoch 6/10\n",
      "771/771 [==============================] - 60s 78ms/step - loss: 0.0108 - accuracy: 0.9982 - val_loss: 0.0269 - val_accuracy: 0.9940\n",
      "Epoch 7/10\n",
      "771/771 [==============================] - 59s 77ms/step - loss: 0.0087 - accuracy: 0.9985 - val_loss: 0.0235 - val_accuracy: 0.9935\n",
      "Epoch 8/10\n",
      "771/771 [==============================] - 57s 74ms/step - loss: 0.0085 - accuracy: 0.9983 - val_loss: 0.0219 - val_accuracy: 0.9946\n",
      "193/193 [==============================] - 6s 30ms/step - loss: 0.0196 - accuracy: 0.9938\n",
      "Test Accuracy: 99.38%\n"
     ]
    }
   ],
   "source": [
    "\n",
    "#  RNN Model\n",
    "embedding_dim = 50  # Increased embedding dimension\n",
    "model = Sequential([\n",
    "    Embedding(input_dim=max_words, output_dim=embedding_dim, input_length=max_sequence_length),\n",
    "    Bidirectional(LSTM(256, return_sequences=True)),  # Increased LSTM units\n",
    "    Dropout(0.5),\n",
    "    Bidirectional(LSTM(256)),\n",
    "    Dense(128, activation='relu'),  # Additional dense layer\n",
    "    Dropout(0.5),\n",
    "    Dense(1, activation='sigmoid')\n",
    "])\n",
    "model.compile(optimizer='adam', loss='binary_crossentropy', metrics=['accuracy'])\n",
    "\n",
    "# Early stopping\n",
    "early_stopping = EarlyStopping(monitor='val_loss', patience=3, restore_best_weights=True)\n",
    "\n",
    "# Training\n",
    "labels_train = train_data['Label']\n",
    "labels_test = test_data['Label']\n",
    "model.fit(train_padded, labels_train, epochs=10, validation_data=(test_padded, labels_test), callbacks=[early_stopping])\n",
    "\n",
    "# Evaluate\n",
    "test_loss, test_accuracy = model.evaluate(test_padded, labels_test)\n",
    "print(f'Test Accuracy: {test_accuracy * 100:.2f}%')"
   ]
  },
  {
   "cell_type": "code",
   "execution_count": 5,
   "metadata": {},
   "outputs": [
    {
     "name": "stdout",
     "output_type": "stream",
     "text": [
      "193/193 [==============================] - 7s 29ms/step\n"
     ]
    },
    {
     "data": {
      "image/png": "[encoded data removed]",
      "text/plain": [
       "<Figure size 640x480 with 2 Axes>"
      ]
     },
     "metadata": {},
     "output_type": "display_data"
    },
    {
     "name": "stdout",
     "output_type": "stream",
     "text": [
      "              precision    recall  f1-score   support\n",
      "\n",
      "         0.0       1.00      0.99      1.00      3892\n",
      "         1.0       0.99      0.99      0.99      2275\n",
      "\n",
      "    accuracy                           0.99      6167\n",
      "   macro avg       0.99      0.99      0.99      6167\n",
      "weighted avg       0.99      0.99      0.99      6167\n",
      "\n"
     ]
    }
   ],
   "source": [
    "import seaborn as sns\n",
    "import matplotlib.pyplot as plt\n",
    "from sklearn.metrics import confusion_matrix\n",
    "from sklearn.metrics import classification_report\n",
    "\n",
    "# Predictions\n",
    "y_pred_prob = model.predict(test_padded)\n",
    "y_pred = (y_pred_prob > 0.5).astype(int)\n",
    "\n",
    "# Confusion Matrix\n",
    "cm = confusion_matrix(labels_test, y_pred)\n",
    "\n",
    "# Calculate TP, FP, TN, FN\n",
    "tp = cm[1, 1]\n",
    "fp = cm[0, 1]\n",
    "tn = cm[0, 0]\n",
    "fn = cm[1, 0]\n",
    "\n",
    "# Create a DataFrame for better visualization\n",
    "confusion_df = pd.DataFrame(\n",
    "    data=[[tn, fp], [fn, tp]],\n",
    "    index=['Actual 0', 'Actual 1'],\n",
    "    columns=['Predicted 0', 'Predicted 1']\n",
    ")\n",
    "\n",
    "# Plot the heatmap\n",
    "sns.heatmap(confusion_df, annot=True, fmt='d', cmap='Blues', center=True)\n",
    "plt.xlabel('Predicted Labels')\n",
    "plt.ylabel('True Labels')\n",
    "plt.title('Confusion Matrix')\n",
    "plt.show()\n",
    "\n",
    "# Classification Report\n",
    "print(classification_report(labels_test, y_pred))"
   ]
  },
  {
   "cell_type": "code",
   "execution_count": 11,
   "metadata": {},
   "outputs": [],
   "source": [
    "import pandas as pd\n",
    "from sklearn.model_selection import train_test_split\n",
    "from tensorflow.keras.preprocessing.text import Tokenizer\n",
    "from tensorflow.keras.preprocessing.sequence import pad_sequences\n",
    "from tensorflow.keras.models import Sequential\n",
    "from tensorflow.keras.layers import Embedding, LSTM, Dense, Dropout, Bidirectional\n",
    "from tensorflow.keras.callbacks import EarlyStoppinge\n",
    "import os\n",
    "\n",
    "# Configure TensorFlow to use GPU\n",
    "os.environ['CUDA_VISIBLE_DEVICES'] = '0'\n",
    "\n",
    "df = pd.read_csv(r\"C:\\Users\\abdel\\Downloads\\before.csv\")"
   ]
  },
  {
   "cell_type": "code",
   "execution_count": 12,
   "metadata": {},
   "outputs": [
    {
     "name": "stdout",
     "output_type": "stream",
     "text": [
      "Index(['Sentence', 'Label', 'Unnamed: 2', 'Unnamed: 3'], dtype='object')\n",
      "Sentence          0\n",
      "Label             0\n",
      "Unnamed: 2    30581\n",
      "Unnamed: 3    30874\n",
      "dtype: int64\n",
      "                                            Sentence Label Unnamed: 2  \\\n",
      "0                  \" or pg_sleep  (  __TIME__  )  --     1        NaN   \n",
      "1  create user name identified by pass123 tempora...     1          1   \n",
      "2   AND 1  =  utl_inaddr.get_host_address   (    ...     1        NaN   \n",
      "3   select * from users where id  =  '1' or @ @1 ...     1        NaN   \n",
      "4   select * from users where id  =  1 or 1#\"  ( ...     1        NaN   \n",
      "\n",
      "   Unnamed: 3  \n",
      "0         NaN  \n",
      "1         NaN  \n",
      "2         NaN  \n",
      "3         NaN  \n",
      "4         NaN  \n"
     ]
    }
   ],
   "source": [
    "print(df.columns)\n",
    "for i in range(0, 20921):\n",
    "    if pd.isnull(df.iloc[i, 0]):\n",
    "        df.iloc[i, 0] = df.iloc[i, 1]\n",
    "    elif pd.isnull(df.iloc[i, 1]):\n",
    "        df.iloc[i, 1] = df.iloc[i, 2]\n",
    "print(df.isna().sum())\n",
    "print(df.head())"
   ]
  },
  {
   "cell_type": "code",
   "execution_count": 13,
   "metadata": {},
   "outputs": [
    {
     "name": "stdout",
     "output_type": "stream",
     "text": [
      "Sentence          0\n",
      "Label             0\n",
      "Unnamed: 2    30577\n",
      "Unnamed: 3    30832\n",
      "dtype: int64\n"
     ]
    }
   ],
   "source": [
    "# Convert 'Label' column to string and then check for non-numeric characters\n",
    "df['Label'] = df['Label'].astype(str)\n",
    "df = df[~df['Label'].str.contains('[a-zA-Z]')]\n",
    "# Convert the 'Label' column to integers\n",
    "df['Label'] = pd.to_numeric(df['Label'], errors='coerce', downcast='integer')\n",
    "df['Label'] = df['Label'].astype('float32')\n",
    "# Drop rows with NaN values in 'Sentence' and 'Label' columns\n",
    "df = df.dropna(subset=['Sentence', 'Label'])\n",
    "\n",
    "# Check for NaN values after cleaning\n",
    "print(df.isna().sum())\n",
    "\n",
    "# Split the data into training and testing sets\n",
    "train_data, test_data = train_test_split(df, test_size=0.2, random_state=42)\n",
    "\n",
    "# Tokenization and Padding\n",
    "max_words = 10000\n",
    "max_sequence_length = 100\n",
    "tokenizer = Tokenizer(num_words=max_words, oov_token=\"<OOV>\")\n",
    "tokenizer.fit_on_texts(train_data['Sentence'])\n",
    "train_sequences = tokenizer.texts_to_sequences(train_data['Sentence'])\n",
    "test_sequences = tokenizer.texts_to_sequences(test_data['Sentence'])\n",
    "train_padded = pad_sequences(train_sequences, maxlen=max_sequence_length, padding='post', truncating='post')\n",
    "test_padded = pad_sequences(test_sequences, maxlen=max_sequence_length, padding='post', truncating='post')"
   ]
  },
  {
   "cell_type": "code",
   "execution_count": 14,
   "metadata": {},
   "outputs": [
    {
     "name": "stdout",
     "output_type": "stream",
     "text": [
      "Epoch 1/10\n",
      "771/771 [==============================] - 76s 93ms/step - loss: 0.1004 - accuracy: 0.9734 - val_loss: 0.0512 - val_accuracy: 0.9911\n",
      "Epoch 2/10\n",
      "771/771 [==============================] - 61s 79ms/step - loss: 0.0472 - accuracy: 0.9925 - val_loss: 0.0468 - val_accuracy: 0.9921\n",
      "Epoch 3/10\n",
      "771/771 [==============================] - 58s 75ms/step - loss: 0.0453 - accuracy: 0.9925 - val_loss: 0.0592 - val_accuracy: 0.9893\n",
      "Epoch 4/10\n",
      "771/771 [==============================] - 58s 76ms/step - loss: 0.0429 - accuracy: 0.9928 - val_loss: 0.0486 - val_accuracy: 0.9919\n",
      "Epoch 5/10\n",
      "771/771 [==============================] - 59s 77ms/step - loss: 0.0378 - accuracy: 0.9940 - val_loss: 0.0479 - val_accuracy: 0.9919\n",
      "193/193 [==============================] - 6s 30ms/step - loss: 0.0468 - accuracy: 0.9921\n",
      "Test Accuracy: 99.21%\n"
     ]
    }
   ],
   "source": [
    "\n",
    "#  RNN Model\n",
    "embedding_dim = 50  \n",
    "model = Sequential([\n",
    "    Embedding(input_dim=max_words, output_dim=embedding_dim, input_length=max_sequence_length),\n",
    "    Bidirectional(LSTM(256, return_sequences=True)),  \n",
    "    Dropout(0.5),\n",
    "    Bidirectional(LSTM(256)),\n",
    "    Dense(128, activation='sigmoid'),  # Additional dense layer\n",
    "    Dropout(0.5),\n",
    "    Dense(1, activation='sigmoid')\n",
    "])\n",
    "model.compile(optimizer='adam', loss='binary_crossentropy', metrics=['accuracy'])\n",
    "\n",
    "# Early stopping\n",
    "early_stopping = EarlyStopping(monitor='val_loss', patience=3, restore_best_weights=True)\n",
    "\n",
    "# Training\n",
    "labels_train = train_data['Label']\n",
    "labels_test = test_data['Label']\n",
    "model.fit(train_padded, labels_train, epochs=10, validation_data=(test_padded, labels_test), callbacks=[early_stopping])\n",
    "\n",
    "# Evaluate\n",
    "test_loss, test_accuracy = model.evaluate(test_padded, labels_test)\n",
    "print(f'Test Accuracy: {test_accuracy * 100:.2f}%')"
   ]
  },
  {
   "cell_type": "code",
   "execution_count": 2,
   "metadata": {},
   "outputs": [
    {
     "name": "stdout",
     "output_type": "stream",
     "text": [
      "Epoch 1/10\n",
      "780/780 [==============================] - 65s 76ms/step - loss: 0.9521 - accuracy: 0.9167 - val_loss: 0.7896 - val_accuracy: 0.9498\n",
      "Epoch 2/10\n",
      "780/780 [==============================] - 55s 71ms/step - loss: 0.8282 - accuracy: 0.9473 - val_loss: 0.7003 - val_accuracy: 0.9552\n",
      "Epoch 3/10\n",
      "780/780 [==============================] - 57s 73ms/step - loss: 0.7438 - accuracy: 0.9526 - val_loss: 0.6282 - val_accuracy: 0.9597\n",
      "Epoch 4/10\n",
      "780/780 [==============================] - 58s 74ms/step - loss: 0.7085 - accuracy: 0.9547 - val_loss: 0.6213 - val_accuracy: 0.9601\n",
      "Epoch 5/10\n",
      "780/780 [==============================] - 56s 71ms/step - loss: 0.6981 - accuracy: 0.9553 - val_loss: 0.5958 - val_accuracy: 0.9615\n",
      "Epoch 6/10\n",
      "780/780 [==============================] - 57s 73ms/step - loss: 0.6698 - accuracy: 0.9570 - val_loss: 0.5899 - val_accuracy: 0.9618\n",
      "Epoch 7/10\n",
      "780/780 [==============================] - 57s 73ms/step - loss: 0.6639 - accuracy: 0.9573 - val_loss: 0.5823 - val_accuracy: 0.9621\n",
      "Epoch 8/10\n",
      "780/780 [==============================] - 57s 73ms/step - loss: 0.6604 - accuracy: 0.9575 - val_loss: 0.5816 - val_accuracy: 0.9621\n",
      "Epoch 9/10\n",
      "780/780 [==============================] - 57s 74ms/step - loss: 0.6597 - accuracy: 0.9575 - val_loss: 0.5811 - val_accuracy: 0.9621\n",
      "Epoch 10/10\n",
      "780/780 [==============================] - 58s 74ms/step - loss: 0.6592 - accuracy: 0.9575 - val_loss: 0.5806 - val_accuracy: 0.9621\n",
      "195/195 [==============================] - 6s 31ms/step - loss: 0.5806 - accuracy: 0.9621\n",
      "Test Accuracy: 96.21%\n"
     ]
    }
   ],
   "source": [
    "\n",
    "\n",
    "#  RNN Model\n",
    "embedding_dim = 50  \n",
    "model = Sequential([\n",
    "    Embedding(input_dim=max_words, output_dim=embedding_dim, input_length=max_sequence_length),\n",
    "    Bidirectional(LSTM(256, return_sequences=True)),  # Increased LSTM units\n",
    "    Dropout(0.5),\n",
    "    Bidirectional(LSTM(256)),\n",
    "    Dense(128, activation='softsign'),  # Additional dense layer\n",
    "    Dropout(0.5),\n",
    "    Dense(1, activation='softsign')\n",
    "])\n",
    "model.compile(optimizer='adam', loss='binary_crossentropy', metrics=['accuracy'])\n",
    "\n",
    "# Early stopping\n",
    "early_stopping = EarlyStopping(monitor='val_loss', patience=3, restore_best_weights=True)\n",
    "\n",
    "# Training\n",
    "labels_train = train_data['Label']\n",
    "labels_test = test_data['Label']\n",
    "model.fit(train_padded, labels_train, epochs=10, validation_data=(test_padded, labels_test), callbacks=[early_stopping])\n",
    "\n",
    "# Evaluate\n",
    "test_loss, test_accuracy = model.evaluate(test_padded, labels_test)\n",
    "print(f'Test Accuracy: {test_accuracy * 100:.2f}%')"
   ]
  }
 ],
 "metadata": {
  "kernelspec": {
   "display_name": "Python 3",
   "language": "python",
   "name": "python3"
  },
  "language_info": {
   "codemirror_mode": {
    "name": "ipython",
    "version": 3
   },
   "file_extension": ".py",
   "mimetype": "text/x-python",
   "name": "python",
   "nbconvert_exporter": "python",
   "pygments_lexer": "ipython3",
   "version": "3.10.9"
  }
 },
 "nbformat": 4,
 "nbformat_minor": 2
}
