{
 "cells": [
  {
   "cell_type": "code",
   "execution_count": 1,
   "metadata": {},
   "outputs": [],
   "source": [
    "import pandas as pd\n",
    "from sklearn.model_selection import train_test_split\n",
    "from tensorflow.keras.preprocessing.text import Tokenizer\n",
    "from tensorflow.keras.preprocessing.sequence import pad_sequences\n",
    "from tensorflow.keras.models import Sequential\n",
    "from tensorflow.keras.layers import Embedding, LSTM, Dense, Dropout, Bidirectional\n",
    "from tensorflow.keras.callbacks import EarlyStopping\n",
    "import os\n",
    "\n",
    "# Configure TensorFlow to use GPU\n",
    "os.environ['CUDA_VISIBLE_DEVICES'] = '0'\n",
    "\n",
    "df = pd.read_csv(r\"C:\\Users\\abdel\\Downloads\\data set\\SQLiV3.csv\")\n",
    "\n"
   ]
  },
  {
   "cell_type": "code",
   "execution_count": 2,
   "metadata": {},
   "outputs": [
    {
     "name": "stdout",
     "output_type": "stream",
     "text": [
      "Index(['Sentence', 'Label', 'Unnamed: 2', 'Unnamed: 3'], dtype='object')\n",
      "Sentence          1\n",
      "Label             0\n",
      "Unnamed: 2    30916\n",
      "Unnamed: 3    31209\n",
      "dtype: int64\n",
      "                                            Sentence Label Unnamed: 2  \\\n",
      "0                  \" or pg_sleep  (  __TIME__  )  --     1        NaN   \n",
      "1  create user name identified by pass123 tempora...     1          1   \n",
      "2   AND 1  =  utl_inaddr.get_host_address   (    ...     1        NaN   \n",
      "3   select * from users where id  =  '1' or @ @1 ...     1        NaN   \n",
      "4   select * from users where id  =  1 or 1#\"  ( ...     1        NaN   \n",
      "\n",
      "   Unnamed: 3  \n",
      "0         NaN  \n",
      "1         NaN  \n",
      "2         NaN  \n",
      "3         NaN  \n",
      "4         NaN  \n",
      "Epoch 1/10\n",
      "780/780 [==============================] - 66s 75ms/step - loss: 0.0584 - accuracy: 0.9828 - val_loss: 0.0487 - val_accuracy: 0.9816\n",
      "Epoch 2/10\n",
      "780/780 [==============================] - 54s 69ms/step - loss: 0.0325 - accuracy: 0.9947 - val_loss: 0.0396 - val_accuracy: 0.9907\n",
      "Epoch 3/10\n",
      "780/780 [==============================] - 55s 71ms/step - loss: 0.0148 - accuracy: 0.9970 - val_loss: 0.0213 - val_accuracy: 0.9950\n",
      "Epoch 4/10\n",
      "780/780 [==============================] - 52s 67ms/step - loss: 0.0102 - accuracy: 0.9981 - val_loss: 0.0323 - val_accuracy: 0.9915\n",
      "Epoch 5/10\n",
      "780/780 [==============================] - 56s 72ms/step - loss: 0.0095 - accuracy: 0.9982 - val_loss: 0.0217 - val_accuracy: 0.9942\n",
      "Epoch 6/10\n",
      "780/780 [==============================] - 57s 73ms/step - loss: 0.0081 - accuracy: 0.9984 - val_loss: 0.0269 - val_accuracy: 0.9925\n",
      "195/195 [==============================] - 6s 29ms/step - loss: 0.0213 - accuracy: 0.9950\n",
      "Test Accuracy: 99.50%\n"
     ]
    }
   ],
   "source": [
    "\n",
    "\n",
    "print(df.columns)\n",
    "for i in range(0, 20921):\n",
    "    if pd.isnull(df.iloc[i, 0]):\n",
    "        df.iloc[i, 0] = df.iloc[i, 1]\n",
    "    elif pd.isnull(df.iloc[i, 1]):\n",
    "        df.iloc[i, 1] = df.iloc[i, 2]\n",
    "print(df.isna().sum())\n",
    "print(df.head())\n",
    "\n",
    "# Data Cleaning\n",
    "df['Label'] = df['Label'].astype(str)\n",
    "df = df[~df['Label'].str.contains('[a-zA-Z]')]\n",
    "df['Label'] = pd.to_numeric(df['Label'], errors='coerce', downcast='integer')\n",
    "df['Label'] = df['Label'].astype('float32')\n",
    "df = df.dropna(subset=['Sentence', 'Label'])\n",
    "\n",
    "# Split data\n",
    "train_data, test_data = train_test_split(df, test_size=0.2, random_state=42)\n",
    "\n",
    "# Tokenization and Padding\n",
    "max_words = 10000\n",
    "max_sequence_length = 100\n",
    "tokenizer = Tokenizer(num_words=max_words, oov_token=\"<OOV>\")\n",
    "tokenizer.fit_on_texts(train_data['Sentence'])\n",
    "train_sequences = tokenizer.texts_to_sequences(train_data['Sentence'])\n",
    "test_sequences = tokenizer.texts_to_sequences(test_data['Sentence'])\n",
    "train_padded = pad_sequences(train_sequences, maxlen=max_sequence_length, padding='post', truncating='post')\n",
    "test_padded = pad_sequences(test_sequences, maxlen=max_sequence_length, padding='post', truncating='post')\n",
    "\n",
    "#  RNN Model\n",
    "embedding_dim = 50  # Increased embedding dimension\n",
    "model = Sequential([\n",
    "    Embedding(input_dim=max_words, output_dim=embedding_dim, input_length=max_sequence_length),\n",
    "    Bidirectional(LSTM(256, return_sequences=True)),  # Increased LSTM units\n",
    "    Dropout(0.5),\n",
    "    Bidirectional(LSTM(256)),\n",
    "    Dense(128, activation='relu'),  # Additional dense layer\n",
    "    Dropout(0.5),\n",
    "    Dense(1, activation='sigmoid')\n",
    "])\n",
    "model.compile(optimizer='adam', loss='binary_crossentropy', metrics=['accuracy'])\n",
    "\n",
    "# Early stopping\n",
    "early_stopping = EarlyStopping(monitor='val_loss', patience=3, restore_best_weights=True)\n",
    "\n",
    "# Training\n",
    "labels_train = train_data['Label']\n",
    "labels_test = test_data['Label']\n",
    "model.fit(train_padded, labels_train, epochs=10, validation_data=(test_padded, labels_test), callbacks=[early_stopping])\n",
    "\n",
    "# Evaluate\n",
    "test_loss, test_accuracy = model.evaluate(test_padded, labels_test)\n",
    "print(f'Test Accuracy: {test_accuracy * 100:.2f}%')"
   ]
  },
  {
   "cell_type": "code",
   "execution_count": 3,
   "metadata": {},
   "outputs": [
    {
     "name": "stdout",
     "output_type": "stream",
     "text": [
      "195/195 [==============================] - 6s 27ms/step\n"
     ]
    },
    {
     "data": {
      "image/png": "[encoded data removed]",
      "text/plain": [
       "<Figure size 640x480 with 2 Axes>"
      ]
     },
     "metadata": {},
     "output_type": "display_data"
    },
    {
     "name": "stdout",
     "output_type": "stream",
     "text": [
      "              precision    recall  f1-score   support\n",
      "\n",
      "         0.0       0.99      1.00      1.00      3922\n",
      "         1.0       1.00      0.99      0.99      2312\n",
      "\n",
      "    accuracy                           1.00      6234\n",
      "   macro avg       1.00      0.99      0.99      6234\n",
      "weighted avg       1.00      1.00      1.00      6234\n",
      "\n"
     ]
    }
   ],
   "source": [
    "import seaborn as sns\n",
    "import matplotlib.pyplot as plt\n",
    "from sklearn.metrics import confusion_matrix\n",
    "from sklearn.metrics import classification_report\n",
    "\n",
    "# Predictions\n",
    "y_pred_prob = model.predict(test_padded)\n",
    "y_pred = (y_pred_prob > 0.5).astype(int)\n",
    "\n",
    "# Confusion Matrix\n",
    "cm = confusion_matrix(labels_test, y_pred)\n",
    "\n",
    "# Calculate TP, FP, TN, FN\n",
    "tp = cm[1, 1]\n",
    "fp = cm[0, 1]\n",
    "tn = cm[0, 0]\n",
    "fn = cm[1, 0]\n",
    "\n",
    "# Create a DataFrame for better visualization\n",
    "confusion_df = pd.DataFrame(\n",
    "    data=[[tn, fp], [fn, tp]],\n",
    "    index=['Actual 0', 'Actual 1'],\n",
    "    columns=['Predicted 0', 'Predicted 1']\n",
    ")\n",
    "\n",
    "# Plot the heatmap\n",
    "sns.heatmap(confusion_df, annot=True, fmt='d', cmap='Blues', center=True)\n",
    "plt.xlabel('Predicted Labels')\n",
    "plt.ylabel('True Labels')\n",
    "plt.title('Confusion Matrix')\n",
    "plt.show()\n",
    "\n",
    "# Classification Report\n",
    "print(classification_report(labels_test, y_pred))"
   ]
  },
  {
   "cell_type": "code",
   "execution_count": 4,
   "metadata": {},
   "outputs": [],
   "source": [
    "\n",
    "embedding_dim = 50  # Increased embedding dimension\n",
    "model = Sequential([\n",
    "    Embedding(input_dim=max_words, output_dim=embedding_dim, input_length=max_sequence_length),\n",
    "    Bidirectional(LSTM(256, return_sequences=True)),  # Increased LSTM units\n",
    "    Dropout(0.5),\n",
    "    Bidirectional(LSTM(256)),\n",
    "    Dense(128, activation='sigmoid'),  # Additional dense layer\n",
    "    Dropout(0.5),\n",
    "    Dense(1, activation='sigmoid')\n",
    "])"
   ]
  },
  {
   "cell_type": "code",
   "execution_count": 5,
   "metadata": {},
   "outputs": [
    {
     "name": "stdout",
     "output_type": "stream",
     "text": [
      "Epoch 1/10\n",
      "780/780 [==============================] - 63s 74ms/step - loss: 0.0806 - accuracy: 0.9760 - val_loss: 0.0288 - val_accuracy: 0.9949\n",
      "Epoch 2/10\n",
      "780/780 [==============================] - 56s 72ms/step - loss: 0.0230 - accuracy: 0.9958 - val_loss: 0.0377 - val_accuracy: 0.9921\n",
      "Epoch 3/10\n",
      "780/780 [==============================] - 57s 73ms/step - loss: 0.0160 - accuracy: 0.9968 - val_loss: 0.0265 - val_accuracy: 0.9912\n",
      "Epoch 4/10\n",
      "780/780 [==============================] - 59s 76ms/step - loss: 0.0109 - accuracy: 0.9979 - val_loss: 0.0236 - val_accuracy: 0.9939\n",
      "Epoch 5/10\n",
      "780/780 [==============================] - 58s 74ms/step - loss: 0.0091 - accuracy: 0.9984 - val_loss: 0.0363 - val_accuracy: 0.9883\n",
      "Epoch 6/10\n",
      "780/780 [==============================] - 55s 71ms/step - loss: 0.0114 - accuracy: 0.9979 - val_loss: 0.0282 - val_accuracy: 0.9920\n",
      "Epoch 7/10\n",
      "780/780 [==============================] - 55s 71ms/step - loss: 0.0099 - accuracy: 0.9983 - val_loss: 0.0224 - val_accuracy: 0.9947\n",
      "Epoch 8/10\n",
      "780/780 [==============================] - 94s 121ms/step - loss: 0.0086 - accuracy: 0.9985 - val_loss: 0.0321 - val_accuracy: 0.9921\n",
      "Epoch 9/10\n",
      "780/780 [==============================] - 104s 133ms/step - loss: 0.0077 - accuracy: 0.9989 - val_loss: 0.0360 - val_accuracy: 0.9910\n",
      "Epoch 10/10\n",
      "780/780 [==============================] - 64s 82ms/step - loss: 0.0075 - accuracy: 0.9987 - val_loss: 0.0409 - val_accuracy: 0.9912\n",
      "195/195 [==============================] - 6s 29ms/step - loss: 0.0224 - accuracy: 0.9947\n",
      "Test Accuracy: 99.47%\n"
     ]
    }
   ],
   "source": [
    "model.compile(optimizer='adam', loss='binary_crossentropy', metrics=['accuracy'])\n",
    "\n",
    "\n",
    "\n",
    "early_stopping = EarlyStopping(monitor='val_loss', patience=3, restore_best_weights=True)\n",
    "\n",
    "labels_train = train_data['Label']\n",
    "labels_test = test_data['Label']\n",
    "\n",
    "model.fit(train_padded, labels_train, epochs=10, validation_data=(test_padded, labels_test), callbacks=[early_stopping])\n",
    "\n",
    "\n",
    "# Evaluate the model\n",
    "test_loss, test_accuracy = model.evaluate(test_padded, labels_test)\n",
    "print(f'Test Accuracy: {test_accuracy * 100:.2f}%')\n"
   ]
  },
  {
   "cell_type": "code",
   "execution_count": 6,
   "metadata": {},
   "outputs": [
    {
     "name": "stdout",
     "output_type": "stream",
     "text": [
      "195/195 [==============================] - 7s 31ms/step\n"
     ]
    },
    {
     "data": {
      "image/png": "[encoded data removed]",
      "text/plain": [
       "<Figure size 640x480 with 2 Axes>"
      ]
     },
     "metadata": {},
     "output_type": "display_data"
    },
    {
     "name": "stdout",
     "output_type": "stream",
     "text": [
      "              precision    recall  f1-score   support\n",
      "\n",
      "         0.0       1.00      0.99      1.00      3922\n",
      "         1.0       0.99      0.99      0.99      2312\n",
      "\n",
      "    accuracy                           0.99      6234\n",
      "   macro avg       0.99      0.99      0.99      6234\n",
      "weighted avg       0.99      0.99      0.99      6234\n",
      "\n"
     ]
    }
   ],
   "source": [
    "# Predictions\n",
    "y_pred_prob = model.predict(test_padded)\n",
    "y_pred = (y_pred_prob > 0.5).astype(int)\n",
    "\n",
    "# Confusion Matrix\n",
    "cm = confusion_matrix(labels_test, y_pred)\n",
    "\n",
    "# Calculate TP, FP, TN, FN\n",
    "tp = cm[1, 1]\n",
    "fp = cm[0, 1]\n",
    "tn = cm[0, 0]\n",
    "fn = cm[1, 0]\n",
    "\n",
    "# Create a DataFrame for better visualization\n",
    "confusion_df = pd.DataFrame(\n",
    "    data=[[tn, fp], [fn, tp]],\n",
    "    index=['Actual 0', 'Actual 1'],\n",
    "    columns=['Predicted 0', 'Predicted 1']\n",
    ")\n",
    "\n",
    "# Plot the heatmap\n",
    "sns.heatmap(confusion_df, annot=True, fmt='d', cmap='Blues', center=True)\n",
    "plt.xlabel('Predicted Labels')\n",
    "plt.ylabel('True Labels')\n",
    "plt.title('Confusion Matrix')\n",
    "plt.show()\n",
    "\n",
    "# Classification Report\n",
    "print(classification_report(labels_test, y_pred))"
   ]
  },
  {
   "cell_type": "code",
   "execution_count": 7,
   "metadata": {},
   "outputs": [
    {
     "name": "stdout",
     "output_type": "stream",
     "text": [
      "Epoch 1/10\n",
      "780/780 [==============================] - 66s 77ms/step - loss: 0.2236 - accuracy: 0.9372 - val_loss: 0.0849 - val_accuracy: 0.9950\n",
      "Epoch 2/10\n",
      "780/780 [==============================] - 58s 74ms/step - loss: 0.0877 - accuracy: 0.9949 - val_loss: 0.1332 - val_accuracy: 0.9726\n",
      "Epoch 3/10\n",
      "780/780 [==============================] - 57s 74ms/step - loss: 0.9713 - accuracy: 0.8579 - val_loss: 1.4664 - val_accuracy: 0.9034\n",
      "Epoch 4/10\n",
      "780/780 [==============================] - 58s 74ms/step - loss: 1.2638 - accuracy: 0.9173 - val_loss: 1.4595 - val_accuracy: 0.9038\n",
      "195/195 [==============================] - 6s 30ms/step - loss: 0.0849 - accuracy: 0.9950\n",
      "Test Accuracy: 99.50%\n"
     ]
    }
   ],
   "source": [
    "#  RNN Model\n",
    "embedding_dim = 50  \n",
    "model = Sequential([\n",
    "    Embedding(input_dim=max_words, output_dim=embedding_dim, input_length=max_sequence_length),\n",
    "    Bidirectional(LSTM(256, return_sequences=True)),  # Increased LSTM units\n",
    "    Dropout(0.5),\n",
    "    Bidirectional(LSTM(256)),\n",
    "    Dense(128, activation='softsign'),  # Additional dense layer\n",
    "    Dropout(0.5),\n",
    "    Dense(1, activation='softsign')\n",
    "])\n",
    "model.compile(optimizer='adam', loss='binary_crossentropy', metrics=['accuracy'])\n",
    "\n",
    "# Early stopping\n",
    "early_stopping = EarlyStopping(monitor='val_loss', patience=3, restore_best_weights=True)\n",
    "\n",
    "# Training\n",
    "labels_train = train_data['Label']\n",
    "labels_test = test_data['Label']\n",
    "model.fit(train_padded, labels_train, epochs=10, validation_data=(test_padded, labels_test), callbacks=[early_stopping])\n",
    "\n",
    "# Evaluate\n",
    "test_loss, test_accuracy = model.evaluate(test_padded, labels_test)\n",
    "print(f'Test Accuracy: {test_accuracy * 100:.2f}%')"
   ]
  }
 ],
 "metadata": {
  "kernelspec": {
   "display_name": "Python 3",
   "language": "python",
   "name": "python3"
  },
  "language_info": {
   "codemirror_mode": {
    "name": "ipython",
    "version": 3
   },
   "file_extension": ".py",
   "mimetype": "text/x-python",
   "name": "python",
   "nbconvert_exporter": "python",
   "pygments_lexer": "ipython3",
   "version": "3.10.9"
  }
 },
 "nbformat": 4,
 "nbformat_minor": 2
}
