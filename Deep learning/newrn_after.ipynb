{
 "cells": [
  {
   "cell_type": "code",
   "execution_count": 1,
   "metadata": {},
   "outputs": [
    {
     "name": "stdout",
     "output_type": "stream",
     "text": [
      "Index(['Sentence', 'Label', 'Unnamed: 2', 'Unnamed: 3'], dtype='object')\n",
      "Sentence          1\n",
      "Label             0\n",
      "Unnamed: 2    30916\n",
      "Unnamed: 3    31209\n",
      "dtype: int64\n",
      "                                            Sentence Label Unnamed: 2  \\\n",
      "0                  \" or pg_sleep  (  __TIME__  )  --     1        NaN   \n",
      "1  create user name identified by pass123 tempora...     1          1   \n",
      "2   AND 1  =  utl_inaddr.get_host_address   (    ...     1        NaN   \n",
      "3   select * from users where id  =  '1' or @ @1 ...     1        NaN   \n",
      "4   select * from users where id  =  1 or 1#\"  ( ...     1        NaN   \n",
      "\n",
      "   Unnamed: 3  \n",
      "0         NaN  \n",
      "1         NaN  \n",
      "2         NaN  \n",
      "3         NaN  \n",
      "4         NaN  \n",
      "Epoch 1/10\n",
      "780/780 [==============================] - 70s 75ms/step - loss: 0.5090 - accuracy: 0.8015 - val_loss: 0.1241 - val_accuracy: 0.9920\n",
      "Epoch 2/10\n",
      "780/780 [==============================] - 59s 75ms/step - loss: 0.1251 - accuracy: 0.9899 - val_loss: 0.0904 - val_accuracy: 0.9941\n",
      "Epoch 3/10\n",
      "780/780 [==============================] - 56s 72ms/step - loss: 0.0994 - accuracy: 0.9943 - val_loss: 0.0873 - val_accuracy: 0.9949\n",
      "Epoch 4/10\n",
      "780/780 [==============================] - 54s 70ms/step - loss: 0.2606 - accuracy: 0.9708 - val_loss: 0.4552 - val_accuracy: 0.9670\n",
      "Epoch 5/10\n",
      "780/780 [==============================] - 54s 69ms/step - loss: 0.4720 - accuracy: 0.9694 - val_loss: 0.1458 - val_accuracy: 0.9867\n",
      "Epoch 6/10\n",
      "780/780 [==============================] - 54s 69ms/step - loss: 0.1259 - accuracy: 0.9924 - val_loss: 0.1773 - val_accuracy: 0.9851\n",
      "195/195 [==============================] - 5s 27ms/step - loss: 0.0873 - accuracy: 0.9949\n",
      "Test Accuracy: 99.49%\n"
     ]
    }
   ],
   "source": [
    "import pandas as pd\n",
    "from sklearn.model_selection import train_test_split\n",
    "from tensorflow.keras.preprocessing.text import Tokenizer\n",
    "from tensorflow.keras.preprocessing.sequence import pad_sequences\n",
    "from tensorflow.keras.models import Sequential\n",
    "from tensorflow.keras.layers import Embedding, LSTM, Dense, Dropout, Bidirectional\n",
    "from tensorflow.keras.callbacks import EarlyStopping\n",
    "#softsign\n",
    "import os\n",
    "\n",
    "# Configure TensorFlow to use GPU\n",
    "os.environ['CUDA_VISIBLE_DEVICES'] = '0'\n",
    "# Load CSV file\n",
    "df = pd.read_csv(r\"C:\\Users\\abdel\\Downloads\\data set\\SQLiV3.csv\")\n",
    "\n",
    "print(df.columns)\n",
    "for i in range(0, 20921):\n",
    "    if pd.isnull(df.iloc[i, 0]):\n",
    "        df.iloc[i, 0] = df.iloc[i, 1]\n",
    "    elif pd.isnull(df.iloc[i, 1]):\n",
    "        df.iloc[i, 1] = df.iloc[i, 2]\n",
    "print(df.isna().sum())\n",
    "print(df.head())\n",
    "\n",
    "# Data Cleaning\n",
    "df['Label'] = df['Label'].astype(str)\n",
    "df = df[~df['Label'].str.contains('[a-zA-Z]')]\n",
    "df['Label'] = pd.to_numeric(df['Label'], errors='coerce', downcast='integer')\n",
    "df['Label'] = df['Label'].astype('float32')\n",
    "df = df.dropna(subset=['Sentence', 'Label'])\n",
    "\n",
    "# Split data\n",
    "train_data, test_data = train_test_split(df, test_size=0.2, random_state=42)\n",
    "\n",
    "# Tokenization and Padding\n",
    "max_words = 10000\n",
    "max_sequence_length = 100\n",
    "tokenizer = Tokenizer(num_words=max_words, oov_token=\"<OOV>\")\n",
    "tokenizer.fit_on_texts(train_data['Sentence'])\n",
    "train_sequences = tokenizer.texts_to_sequences(train_data['Sentence'])\n",
    "test_sequences = tokenizer.texts_to_sequences(test_data['Sentence'])\n",
    "train_padded = pad_sequences(train_sequences, maxlen=max_sequence_length, padding='post', truncating='post')\n",
    "test_padded = pad_sequences(test_sequences, maxlen=max_sequence_length, padding='post', truncating='post')\n",
    "\n",
    "#  RNN Model\n",
    "embedding_dim = 50  # Increased embedding dimension\n",
    "model = Sequential([\n",
    "    Embedding(input_dim=max_words, output_dim=embedding_dim, input_length=max_sequence_length),\n",
    "    Bidirectional(LSTM(256, return_sequences=True)),  # Increased LSTM units\n",
    "    Dropout(0.5),\n",
    "    Bidirectional(LSTM(256)),\n",
    "    Dense(128, activation='softsign'),  # Additional dense layer\n",
    "    Dropout(0.5),\n",
    "    Dense(1, activation='softsign')\n",
    "])\n",
    "model.compile(optimizer='adam', loss='binary_crossentropy', metrics=['accuracy'])\n",
    "\n",
    "# Early stopping\n",
    "early_stopping = EarlyStopping(monitor='val_loss', patience=3, restore_best_weights=True)\n",
    "\n",
    "# Training\n",
    "labels_train = train_data['Label']\n",
    "labels_test = test_data['Label']\n",
    "model.fit(train_padded, labels_train, epochs=10, validation_data=(test_padded, labels_test), callbacks=[early_stopping])\n",
    "\n",
    "# Evaluate\n",
    "test_loss, test_accuracy = model.evaluate(test_padded, labels_test)\n",
    "print(f'Test Accuracy: {test_accuracy * 100:.2f}%')"
   ]
  },
  {
   "cell_type": "code",
   "execution_count": 2,
   "metadata": {},
   "outputs": [
    {
     "name": "stdout",
     "output_type": "stream",
     "text": [
      "195/195 [==============================] - 6s 27ms/step\n"
     ]
    },
    {
     "data": {
      "image/png": "[encoded data removed]",
      "text/plain": [
       "<Figure size 640x480 with 2 Axes>"
      ]
     },
     "metadata": {},
     "output_type": "display_data"
    },
    {
     "name": "stdout",
     "output_type": "stream",
     "text": [
      "              precision    recall  f1-score   support\n",
      "\n",
      "         0.0       0.99      1.00      1.00      3922\n",
      "         1.0       1.00      0.99      0.99      2312\n",
      "\n",
      "    accuracy                           0.99      6234\n",
      "   macro avg       1.00      0.99      0.99      6234\n",
      "weighted avg       0.99      0.99      0.99      6234\n",
      "\n"
     ]
    }
   ],
   "source": [
    "import seaborn as sns\n",
    "import matplotlib.pyplot as plt\n",
    "from sklearn.metrics import confusion_matrix\n",
    "from sklearn.metrics import classification_report\n",
    "# Predictions\n",
    "y_pred_prob = model.predict(test_padded)\n",
    "y_pred = (y_pred_prob > 0.5).astype(int)\n",
    "\n",
    "# Confusion Matrix\n",
    "cm = confusion_matrix(labels_test, y_pred)\n",
    "\n",
    "# Calculate TP, FP, TN, FN\n",
    "tp = cm[1, 1]\n",
    "fp = cm[0, 1]\n",
    "tn = cm[0, 0]\n",
    "fn = cm[1, 0]\n",
    "\n",
    "# Create a DataFrame for better visualization\n",
    "confusion_df = pd.DataFrame(\n",
    "    data=[[tn, fp], [fn, tp]],\n",
    "    index=['Actual 0', 'Actual 1'],\n",
    "    columns=['Predicted 0', 'Predicted 1']\n",
    ")\n",
    "\n",
    "# Plot the heatmap\n",
    "sns.heatmap(confusion_df, annot=True, fmt='d', cmap='Blues', center=True)\n",
    "plt.xlabel('Predicted Labels')\n",
    "plt.ylabel('True Labels')\n",
    "plt.title('Confusion Matrix')\n",
    "plt.show()\n",
    "\n",
    "# Classification Report\n",
    "print(classification_report(labels_test, y_pred))"
   ]
  }
 ],
 "metadata": {
  "kernelspec": {
   "display_name": "Python 3",
   "language": "python",
   "name": "python3"
  },
  "language_info": {
   "codemirror_mode": {
    "name": "ipython",
    "version": 3
   },
   "file_extension": ".py",
   "mimetype": "text/x-python",
   "name": "python",
   "nbconvert_exporter": "python",
   "pygments_lexer": "ipython3",
   "version": "3.10.9"
  }
 },
 "nbformat": 4,
 "nbformat_minor": 2
}
