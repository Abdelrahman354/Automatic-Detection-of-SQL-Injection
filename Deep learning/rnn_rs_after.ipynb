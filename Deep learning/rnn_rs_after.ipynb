{
 "cells": [
  {
   "cell_type": "code",
   "execution_count": 1,
   "metadata": {},
   "outputs": [],
   "source": [
    "import pandas as pd\n",
    "from sklearn.model_selection import train_test_split\n",
    "from tensorflow.keras.preprocessing.text import Tokenizer\n",
    "from tensorflow.keras.preprocessing.sequence import pad_sequences\n",
    "from tensorflow.keras.models import Sequential\n",
    "from tensorflow.keras.layers import Embedding, LSTM, Dense, Dropout, Bidirectional\n",
    "# Train the model with early stopping\n",
    "from tensorflow.keras.callbacks import EarlyStopping\n",
    "# Load your CSV file\n",
    "import os\n",
    "\n",
    "# Configure TensorFlow to use GPU\n",
    "os.environ['CUDA_VISIBLE_DEVICES'] = '0'\n",
    "\n",
    "df = pd.read_csv(r\"C:\\Users\\abdel\\Downloads\\data set\\SQLiV3.csv\")"
   ]
  },
  {
   "cell_type": "code",
   "execution_count": 2,
   "metadata": {},
   "outputs": [
    {
     "name": "stdout",
     "output_type": "stream",
     "text": [
      "Sentence          0\n",
      "Label             0\n",
      "Unnamed: 2    30911\n",
      "Unnamed: 3    30911\n",
      "dtype: int64\n"
     ]
    }
   ],
   "source": [
    "# Convert 'Label' column to string and then check for non-numeric characters\n",
    "df['Label'] = df['Label'].astype(str)\n",
    "df = df[~df['Label'].str.contains('[a-zA-Z]')]\n",
    "# Convert the 'Label' column to integers\n",
    "df['Label'] = pd.to_numeric(df['Label'], errors='coerce', downcast='integer')\n",
    "df['Label'] = df['Label'].astype('float32')\n",
    "# Drop rows with NaN values in 'Sentence' and 'Label' columns\n",
    "df = df.dropna(subset=['Sentence', 'Label'])\n",
    "\n",
    "# Check for NaN values after cleaning\n",
    "print(df.isna().sum())"
   ]
  },
  {
   "cell_type": "code",
   "execution_count": 3,
   "metadata": {},
   "outputs": [],
   "source": [
    "# Split the data into training and testing sets\n",
    "train_data, test_data = train_test_split(df, test_size=0.2, random_state=42)\n",
    "\n",
    "# Tokenize the sentences\n",
    "max_words = 10000  # Maximum number of words to keep in the vocabulary\n",
    "tokenizer = Tokenizer(num_words=max_words, oov_token=\"<OOV>\")\n",
    "tokenizer.fit_on_texts(train_data['Sentence'])\n",
    "train_sequences = tokenizer.texts_to_sequences(train_data['Sentence'])\n",
    "test_sequences = tokenizer.texts_to_sequences(test_data['Sentence'])\n",
    "\n",
    "# Pad sequences to have the same length\n",
    "max_sequence_length = 100  # You can adjust this based on your data and requirements\n",
    "train_padded = pad_sequences(train_sequences, maxlen=max_sequence_length, padding='post', truncating='post')\n",
    "test_padded = pad_sequences(test_sequences, maxlen=max_sequence_length, padding='post', truncating='post')\n",
    "\n",
    "# Build the improved RNN model\n",
    "embedding_dim = 32  # Increased dimension of the word embeddings\n",
    "model = Sequential([\n",
    "    Embedding(input_dim=max_words, output_dim=embedding_dim, input_length=max_sequence_length),\n",
    "    Bidirectional(LSTM(64, return_sequences=True)),  # Use Bidirectional LSTM\n",
    "    Dropout(0.5),  # Add dropout for regularization\n",
    "    Bidirectional(LSTM(64)),\n",
    "    Dense(32, activation='relu'),  # Additional dense layer\n",
    "    Dropout(0.5),  # Add dropout for regularization\n",
    "    Dense(1, activation='sigmoid')  # Binary classification, so using sigmoid activation\n",
    "])"
   ]
  },
  {
   "cell_type": "code",
   "execution_count": 4,
   "metadata": {},
   "outputs": [
    {
     "name": "stdout",
     "output_type": "stream",
     "text": [
      "Epoch 1/10\n",
      "773/773 [==============================] - 65s 61ms/step - loss: 0.0782 - accuracy: 0.9757 - val_loss: 0.0217 - val_accuracy: 0.9951\n",
      "Epoch 2/10\n",
      "773/773 [==============================] - 44s 58ms/step - loss: 0.0277 - accuracy: 0.9949 - val_loss: 0.0217 - val_accuracy: 0.9947\n",
      "Epoch 3/10\n",
      "773/773 [==============================] - 45s 59ms/step - loss: 0.0182 - accuracy: 0.9963 - val_loss: 0.0405 - val_accuracy: 0.9884\n",
      "Epoch 4/10\n",
      "773/773 [==============================] - 41s 54ms/step - loss: 0.0135 - accuracy: 0.9978 - val_loss: 0.0351 - val_accuracy: 0.9908\n",
      "Epoch 5/10\n",
      "773/773 [==============================] - 45s 58ms/step - loss: 0.0122 - accuracy: 0.9979 - val_loss: 0.0372 - val_accuracy: 0.9900\n",
      "194/194 [==============================] - 5s 27ms/step - loss: 0.0217 - accuracy: 0.9947\n",
      "Test Accuracy: 99.47%\n"
     ]
    }
   ],
   "source": [
    "model.compile(optimizer='adam', loss='binary_crossentropy', metrics=['accuracy'])\n",
    "\n",
    "\n",
    "\n",
    "early_stopping = EarlyStopping(monitor='val_loss', patience=3, restore_best_weights=True)\n",
    "\n",
    "labels_train = train_data['Label']\n",
    "labels_test = test_data['Label']\n",
    "\n",
    "model.fit(train_padded, labels_train, epochs=10, validation_data=(test_padded, labels_test), callbacks=[early_stopping])\n",
    "\n",
    "\n",
    "# Evaluate the model\n",
    "test_loss, test_accuracy = model.evaluate(test_padded, labels_test)\n",
    "print(f'Test Accuracy: {test_accuracy * 100:.2f}%')"
   ]
  },
  {
   "cell_type": "code",
   "execution_count": 8,
   "metadata": {},
   "outputs": [
    {
     "name": "stdout",
     "output_type": "stream",
     "text": [
      "<class 'pandas.core.frame.DataFrame'>\n",
      "Int64Index: 30911 entries, 0 to 31217\n",
      "Data columns (total 4 columns):\n",
      " #   Column      Non-Null Count  Dtype  \n",
      "---  ------      --------------  -----  \n",
      " 0   Sentence    30911 non-null  object \n",
      " 1   Label       30911 non-null  float32\n",
      " 2   Unnamed: 2  0 non-null      object \n",
      " 3   Unnamed: 3  0 non-null      float64\n",
      "dtypes: float32(1), float64(1), object(2)\n",
      "memory usage: 1.1+ MB\n"
     ]
    }
   ],
   "source": [
    "df.info()"
   ]
  }
 ],
 "metadata": {
  "kernelspec": {
   "display_name": "Python 3",
   "language": "python",
   "name": "python3"
  },
  "language_info": {
   "codemirror_mode": {
    "name": "ipython",
    "version": 3
   },
   "file_extension": ".py",
   "mimetype": "text/x-python",
   "name": "python",
   "nbconvert_exporter": "python",
   "pygments_lexer": "ipython3",
   "version": "3.10.9"
  }
 },
 "nbformat": 4,
 "nbformat_minor": 2
}
